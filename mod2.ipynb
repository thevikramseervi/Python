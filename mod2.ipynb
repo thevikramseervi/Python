{
 "cells": [
  {
   "cell_type": "code",
   "execution_count": 1,
   "metadata": {},
   "outputs": [],
   "source": [
    "# List\n",
    "spam = [1, 2, 2.5, 'cat', 'dog', None, True]"
   ]
  },
  {
   "cell_type": "code",
   "execution_count": 2,
   "metadata": {},
   "outputs": [
    {
     "name": "stdout",
     "output_type": "stream",
     "text": [
      "4\n"
     ]
    }
   ],
   "source": [
    "# Getting values from a list\n",
    "spam = [1,2,3,4]\n",
    "print(spam[3])\n",
    "# spam[2.5]     TypeError"
   ]
  },
  {
   "cell_type": "code",
   "execution_count": 3,
   "metadata": {},
   "outputs": [
    {
     "name": "stdout",
     "output_type": "stream",
     "text": [
      "dog\n",
      "3\n"
     ]
    }
   ],
   "source": [
    "# List inside a list using multiple index\n",
    "spam = [['cat', 'dog'], [1, 2, 3]]\n",
    "print(spam[0][1])\n",
    "print(spam[1][2])"
   ]
  },
  {
   "cell_type": "code",
   "execution_count": 4,
   "metadata": {},
   "outputs": [
    {
     "name": "stdout",
     "output_type": "stream",
     "text": [
      "ratcat\n"
     ]
    }
   ],
   "source": [
    "spam = ['rat', 'cat', 'dog']\n",
    "ham = spam[0] + spam[1]\n",
    "print(ham)"
   ]
  },
  {
   "cell_type": "code",
   "execution_count": 5,
   "metadata": {},
   "outputs": [
    {
     "name": "stdout",
     "output_type": "stream",
     "text": [
      "['dog', 'fish', 'bat']\n",
      "['dog', 'fish']\n",
      "['rat', 'cat', 'dog']\n",
      "['dog', 'fish', 'bat']\n",
      "['rat', 'cat', 'dog', 'fish', 'bat']\n",
      "['rat', 'cat', 'dog', 'fish', 'bat']\n",
      "['dog']\n",
      "[]\n",
      "[]\n"
     ]
    }
   ],
   "source": [
    "# List with slice [start : n-1]\n",
    "spam = ['rat', 'cat', 'dog', 'fish', 'bat']\n",
    "print(spam[2:5])\n",
    "print(spam[2:-1])\n",
    "print(spam[ :3])\n",
    "print(spam[2: ])\n",
    "print(spam[ : ])\n",
    "print(spam[0:5])\n",
    "print(spam[2:3])\n",
    "print(spam[2:2])\n",
    "print(spam[2:1])"
   ]
  },
  {
   "cell_type": "code",
   "execution_count": 6,
   "metadata": {},
   "outputs": [
    {
     "name": "stdout",
     "output_type": "stream",
     "text": [
      "5\n"
     ]
    }
   ],
   "source": [
    "# Length of a list\n",
    "spam = ['rat', 'cat', 'dog', 'fish', 'bat']\n",
    "print(len(spam))"
   ]
  },
  {
   "cell_type": "code",
   "execution_count": 7,
   "metadata": {},
   "outputs": [
    {
     "name": "stdout",
     "output_type": "stream",
     "text": [
      "['rat', 'cat', 'dog', 'fish', 'bat']\n",
      "['rat', 'cat', 'dog', 'fish', 'cat']\n"
     ]
    }
   ],
   "source": [
    "# changing the items in a list\n",
    "pet = ['rat', 'cat', 'dog', 'fish', 'bat']\n",
    "print(pet)\n",
    "pet[4] = pet[1]\n",
    "print(pet)"
   ]
  },
  {
   "cell_type": "code",
   "execution_count": 8,
   "metadata": {},
   "outputs": [
    {
     "name": "stdout",
     "output_type": "stream",
     "text": [
      "[1, 2, 2.5, 'A', 'B', None]\n"
     ]
    }
   ],
   "source": [
    "# List Concatenation\n",
    "spam = [1, 2, 2.5]\n",
    "print(spam + ['A', 'B', None])"
   ]
  },
  {
   "cell_type": "code",
   "execution_count": 9,
   "metadata": {},
   "outputs": [
    {
     "name": "stdout",
     "output_type": "stream",
     "text": [
      "[1, 2, 'A', 1, 2, 'A', 1, 2, 'A']\n"
     ]
    }
   ],
   "source": [
    "# List Replication\n",
    "spam = [1, 2, 'A'] * 3\n",
    "print(spam)"
   ]
  },
  {
   "cell_type": "code",
   "execution_count": 10,
   "metadata": {},
   "outputs": [
    {
     "name": "stdout",
     "output_type": "stream",
     "text": [
      "['cat', 'bat', 'dog', 'fish', 'frog']\n",
      "['cat', 'fish', 'frog']\n"
     ]
    }
   ],
   "source": [
    "# Deleting items in a list\n",
    "pet = ['cat', 'bat', 'rat', 'dog', 'fish', 'frog']\n",
    "del pet[2]\n",
    "print(pet)\n",
    "del pet[1:3]\n",
    "print(pet)\n",
    "del pet\n",
    "# print(pet)        NameError: name 'pet' is not defined"
   ]
  },
  {
   "cell_type": "code",
   "execution_count": 11,
   "metadata": {},
   "outputs": [
    {
     "name": "stdout",
     "output_type": "stream",
     "text": [
      "alice\n",
      "bob\n",
      "['alice', 'bob']\n"
     ]
    }
   ],
   "source": [
    "# Working with lists\n",
    "s = []\n",
    "while True:\n",
    "    name = input('Enter the student name: ')\n",
    "    if name == '':\n",
    "        break\n",
    "    s = s + [name]\n",
    "for i in s:\n",
    "    print(i)\n",
    "print(s)"
   ]
  },
  {
   "cell_type": "code",
   "execution_count": 12,
   "metadata": {},
   "outputs": [
    {
     "name": "stdout",
     "output_type": "stream",
     "text": [
      "index 0 is cat\n",
      "index 1 is dog\n",
      "index 2 is fish\n"
     ]
    }
   ],
   "source": [
    "# Loops with Lists\n",
    "pet = ['cat', 'dog', 'fish']\n",
    "for i in range(len(pet)):\n",
    "    print('index', i, 'is', pet[i])"
   ]
  },
  {
   "cell_type": "code",
   "execution_count": 13,
   "metadata": {},
   "outputs": [
    {
     "name": "stdout",
     "output_type": "stream",
     "text": [
      "pet is available\n"
     ]
    }
   ],
   "source": [
    "# in & not in operator\n",
    "pet = ['cat', 'dog', 'fish']\n",
    "name = 'dog'\n",
    "if name in pet:\n",
    "    print('pet is available')\n",
    "else:\n",
    "    print('pet not available')"
   ]
  },
  {
   "cell_type": "code",
   "execution_count": 14,
   "metadata": {},
   "outputs": [
    {
     "name": "stdout",
     "output_type": "stream",
     "text": [
      "pet not available\n"
     ]
    }
   ],
   "source": [
    "# in, not in operator\n",
    "pet = ['cat', 'dog', 'fish']\n",
    "name = 'dog'\n",
    "if name not in pet:\n",
    "    print('pet is available')\n",
    "else:\n",
    "    print('pet not available')"
   ]
  },
  {
   "cell_type": "code",
   "execution_count": 15,
   "metadata": {},
   "outputs": [
    {
     "name": "stdout",
     "output_type": "stream",
     "text": [
      "black fat loud\n"
     ]
    }
   ],
   "source": [
    "# Multiple Assignment Trick\n",
    "cat = ['black', 'fat', 'loud']\n",
    "color, size, sound = cat\n",
    "print(color, size, sound)"
   ]
  },
  {
   "cell_type": "code",
   "execution_count": 16,
   "metadata": {},
   "outputs": [
    {
     "name": "stdout",
     "output_type": "stream",
     "text": [
      "0 fish\n",
      "1 crow\n",
      "2 cow\n"
     ]
    }
   ],
   "source": [
    "# enumerate()\n",
    "pet = ['fish', 'crow', 'cow']\n",
    "for i, j in enumerate(pet):\n",
    "    print(i, j)"
   ]
  },
  {
   "cell_type": "code",
   "execution_count": 17,
   "metadata": {},
   "outputs": [
    {
     "data": {
      "text/plain": [
       "'\\nMethods\\n1. index()\\n2. append()\\n3. insert()\\n4. remove()\\n5. sort()\\n6. reverse()\\n'"
      ]
     },
     "execution_count": 17,
     "metadata": {},
     "output_type": "execute_result"
    }
   ],
   "source": [
    "'''\n",
    "Methods\n",
    "1. index()\n",
    "2. append()\n",
    "3. insert()\n",
    "4. remove()\n",
    "5. sort()\n",
    "6. reverse()\n",
    "'''"
   ]
  },
  {
   "cell_type": "code",
   "execution_count": 18,
   "metadata": {},
   "outputs": [
    {
     "name": "stdout",
     "output_type": "stream",
     "text": [
      "index of fish is 2\n",
      "['cat', 'dog', 'fish']\n",
      "['cat', 'dog', 'fish', 'camel']\n",
      "['cat', 'rat', 'dog', 'fish', 'camel']\n",
      "['cat', 'rat', 'dog', 'fish']\n",
      "['dog', 'fish', 'cat']\n",
      "['dog', 'fish']\n"
     ]
    }
   ],
   "source": [
    "pet = ['cat', 'dog', 'fish']\n",
    "print('index of fish is', pet.index('fish'))\n",
    "# print(pet.index('camel'))    ValueError\n",
    "print(pet)\n",
    "pet.append('camel')\n",
    "print(pet)\n",
    "pet.insert(1, 'rat')\n",
    "print(pet)\n",
    "pet.remove('camel')\n",
    "print(pet)\n",
    "\n",
    "pet = ['cat', 'dog', 'fish', 'cat']\n",
    "pet.remove('cat')\n",
    "print(pet)\n",
    "pet.remove('cat')\n",
    "print(pet)"
   ]
  },
  {
   "cell_type": "code",
   "execution_count": 19,
   "metadata": {},
   "outputs": [
    {
     "name": "stdout",
     "output_type": "stream",
     "text": [
      "[-1, 1, 1.5, 2.5, 3]\n"
     ]
    }
   ],
   "source": [
    "# sort method\n",
    "s = [1, -1, 2.5, 1.5, 3]\n",
    "s.sort()\n",
    "print(s)"
   ]
  },
  {
   "cell_type": "code",
   "execution_count": 20,
   "metadata": {},
   "outputs": [
    {
     "name": "stdout",
     "output_type": "stream",
     "text": [
      "[3, 2.5, 1.5, 1, -1]\n"
     ]
    }
   ],
   "source": [
    "# sort reverse method\n",
    "s = [1, -1, 2.5, 1.5, 3]\n",
    "s.sort(reverse = True)\n",
    "print(s)"
   ]
  },
  {
   "cell_type": "code",
   "execution_count": 21,
   "metadata": {},
   "outputs": [
    {
     "name": "stdout",
     "output_type": "stream",
     "text": [
      "['Apple', 'Ball', 'ant', 'bat']\n",
      "['ant', 'Apple', 'Ball', 'bat']\n"
     ]
    }
   ],
   "source": [
    "# sort method\n",
    "s = ['bat', 'Ball', 'Apple', 'ant']\n",
    "s.sort()\n",
    "print(s)\n",
    "s.sort(key = str.lower)\n",
    "print(s)"
   ]
  },
  {
   "cell_type": "code",
   "execution_count": 22,
   "metadata": {},
   "outputs": [
    {
     "name": "stdout",
     "output_type": "stream",
     "text": [
      "['moose', 'dog', 'cat']\n"
     ]
    }
   ],
   "source": [
    "# reverse method\n",
    "pet = ['cat', 'dog', 'moose']\n",
    "pet.reverse()\n",
    "print(pet)"
   ]
  },
  {
   "cell_type": "code",
   "execution_count": 23,
   "metadata": {},
   "outputs": [
    {
     "data": {
      "text/plain": [
       "'\\nrandom.choice()\\nrandom.shuffle()\\n'"
      ]
     },
     "execution_count": 23,
     "metadata": {},
     "output_type": "execute_result"
    }
   ],
   "source": [
    "'''\n",
    "random.choice()\n",
    "random.shuffle()\n",
    "'''"
   ]
  },
  {
   "cell_type": "code",
   "execution_count": 24,
   "metadata": {},
   "outputs": [
    {
     "name": "stdout",
     "output_type": "stream",
     "text": [
      "c\n",
      "cat\n",
      "3\n",
      "t\n"
     ]
    }
   ],
   "source": [
    "# Strings, Lista and Tuples\n",
    "pet = 'cat'\n",
    "print(pet[0])\n",
    "print(pet[0:3])\n",
    "print(len(pet))\n",
    "# pet[1] = 'A'          SyntaxError str does not support item assignment (inmutable)\n",
    "print(pet[-1])"
   ]
  },
  {
   "cell_type": "code",
   "execution_count": 25,
   "metadata": {},
   "outputs": [
    {
     "name": "stdout",
     "output_type": "stream",
     "text": [
      "cat\n",
      "dog\n",
      "['cat', 'dog']\n",
      "2\n",
      "['rat', 'dog']\n"
     ]
    }
   ],
   "source": [
    "# Lists\n",
    "pet = ['cat', 'dog']\n",
    "print(pet[0])\n",
    "print(pet[1])\n",
    "print(pet[0:2])\n",
    "print(len(pet))\n",
    "pet[0] = 'rat'\n",
    "print(pet)"
   ]
  },
  {
   "cell_type": "code",
   "execution_count": 26,
   "metadata": {},
   "outputs": [
    {
     "name": "stdout",
     "output_type": "stream",
     "text": [
      "zophie a cat\n",
      "zophie the cat\n"
     ]
    }
   ],
   "source": [
    "# Strings\n",
    "name = 'zophie a cat'\n",
    "print(name)\n",
    "# name[7] = 'the'       TypeError: 'str' object does not support item assignment\n",
    "new = name[0:7] + 'the' + name[8:12]\n",
    "print(new)"
   ]
  },
  {
   "cell_type": "code",
   "execution_count": 27,
   "metadata": {},
   "outputs": [],
   "source": [
    "# str and tuple are inmutable\n",
    "# list are mutable"
   ]
  },
  {
   "cell_type": "code",
   "execution_count": 28,
   "metadata": {},
   "outputs": [
    {
     "name": "stdout",
     "output_type": "stream",
     "text": [
      "rat\n",
      "<class 'tuple'>\n"
     ]
    }
   ],
   "source": [
    "# tuple\n",
    "pet = ('rat', 'cat', 'dog')\n",
    "print(pet[0])\n",
    "# pet[1] = 'bat'        TypeError: 'tuple' object does not support item assignment (inmutable)\n",
    "print(type(pet))"
   ]
  },
  {
   "cell_type": "code",
   "execution_count": 29,
   "metadata": {},
   "outputs": [
    {
     "name": "stdout",
     "output_type": "stream",
     "text": [
      "<class 'tuple'>\n",
      "('cat', 'dog', 'fish')\n",
      "['cat', 'dog', 'fish']\n",
      "['frog', 'dog', 'fish']\n",
      "<class 'list'>\n",
      "('frog', 'dog', 'fish')\n",
      "<class 'tuple'>\n"
     ]
    }
   ],
   "source": [
    "pet = ('cat', 'dog', 'fish')\n",
    "print(type(pet))\n",
    "print(pet)\n",
    "pet = list(pet)\n",
    "print(pet)\n",
    "pet[0] = 'frog'\n",
    "print(pet)\n",
    "print(type(pet))\n",
    "pet = tuple(pet)\n",
    "print(pet)\n",
    "print(type(pet))"
   ]
  },
  {
   "cell_type": "code",
   "execution_count": 30,
   "metadata": {},
   "outputs": [
    {
     "name": "stdout",
     "output_type": "stream",
     "text": [
      "140722000645240\n",
      "140722000645240\n",
      "140722000647704\n",
      "100\n",
      "23\n"
     ]
    }
   ],
   "source": [
    "# References\n",
    "a = 23\n",
    "b = a\n",
    "print(id(a))\n",
    "print(id(b))\n",
    "b = 100\n",
    "print(id(b))\n",
    "print(b)\n",
    "print(a)"
   ]
  },
  {
   "cell_type": "code",
   "execution_count": 31,
   "metadata": {},
   "outputs": [
    {
     "name": "stdout",
     "output_type": "stream",
     "text": [
      "2507992031296\n",
      "2507992031296\n",
      "[1, 2, 3, 4]\n",
      "[1, 2, 70, 4]\n",
      "[1, 2, 70, 4]\n",
      "2507992031296\n",
      "2507992031296\n"
     ]
    }
   ],
   "source": [
    "# list references\n",
    "a = [1, 2, 3, 4]\n",
    "b = a\n",
    "print(id(a))\n",
    "print(id(b))\n",
    "print(b)\n",
    "b[2] = 70\n",
    "print(b)\n",
    "print(a)\n",
    "print(id(a))\n",
    "print(id(b))"
   ]
  },
  {
   "cell_type": "code",
   "execution_count": 32,
   "metadata": {},
   "outputs": [
    {
     "name": "stdout",
     "output_type": "stream",
     "text": [
      "2507992035072\n",
      "['cat', 'dog', 'fish']\n",
      "2507992035072\n",
      "[1, 2, 3, 4]\n",
      "2507992033792\n"
     ]
    }
   ],
   "source": [
    "# list references\n",
    "pet = ['cat', 'dog']\n",
    "print(id(pet))\n",
    "pet.append('fish')\n",
    "print(pet)\n",
    "print(id(pet))\n",
    "pet = [1, 2, 3, 4]\n",
    "print(pet)\n",
    "print(id(pet))"
   ]
  },
  {
   "cell_type": "code",
   "execution_count": 33,
   "metadata": {},
   "outputs": [
    {
     "name": "stdout",
     "output_type": "stream",
     "text": [
      "Inside function [1, 2, 3, 'Hello']\n",
      "Outside function [1, 2, 3, 'Hello']\n"
     ]
    }
   ],
   "source": [
    "# pass by reference (as list is used)\n",
    "def func(data):\n",
    "    data.append('Hello')\n",
    "    print('Inside function', data)\n",
    "\n",
    "s = [1, 2, 3]\n",
    "func(s)\n",
    "print('Outside function', s)"
   ]
  },
  {
   "cell_type": "code",
   "execution_count": 34,
   "metadata": {},
   "outputs": [
    {
     "name": "stdout",
     "output_type": "stream",
     "text": [
      "Inside function 30\n",
      "Outside function 20\n"
     ]
    }
   ],
   "source": [
    "# pass by value (as number is used)\n",
    "def func(data):\n",
    "    data = 30\n",
    "    print('Inside function', data)\n",
    "\n",
    "s = 20\n",
    "func(s)\n",
    "print('Outside function', s)"
   ]
  },
  {
   "cell_type": "code",
   "execution_count": 35,
   "metadata": {},
   "outputs": [
    {
     "name": "stdout",
     "output_type": "stream",
     "text": [
      "[1, 2, 3]\n",
      "2507992033216\n",
      "2507992033216\n",
      "[100, 2, 3]\n",
      "[100, 2, 3]\n"
     ]
    }
   ],
   "source": [
    "# copy() and deepcopy() functions\n",
    "a = [1, 2, 3]\n",
    "b = a\n",
    "print(b)\n",
    "print(id(a))\n",
    "print(id(b))\n",
    "b[0] = 100\n",
    "print(b)\n",
    "print(a)"
   ]
  },
  {
   "cell_type": "code",
   "execution_count": 36,
   "metadata": {},
   "outputs": [
    {
     "name": "stdout",
     "output_type": "stream",
     "text": [
      "[1, 2, 3]\n",
      "2507992060736\n",
      "2507992032512\n",
      "[100, 2, 3]\n",
      "[1, 2, 3]\n"
     ]
    }
   ],
   "source": [
    "# copy() : copies the list items\n",
    "import copy\n",
    "a = [1, 2, 3]\n",
    "b = copy.copy(a)\n",
    "print(b)\n",
    "print(id(a))\n",
    "print(id(b))\n",
    "b[0] = 100\n",
    "print(b)\n",
    "print(a)"
   ]
  },
  {
   "cell_type": "code",
   "execution_count": 37,
   "metadata": {},
   "outputs": [
    {
     "name": "stdout",
     "output_type": "stream",
     "text": [
      "[1, 2, [3, 4], 5]\n",
      "2507992067264\n",
      "2507991873408\n",
      "[1, 2, [100, 4], 5]\n",
      "[1, 2, [100, 4], 5]\n"
     ]
    }
   ],
   "source": [
    "# copy() : copies the items in a list does not copy the list in list it references it\n",
    "import copy\n",
    "a = [1, 2, [3, 4], 5]\n",
    "b = copy.copy(a)\n",
    "print(b)\n",
    "print(id(a))\n",
    "print(id(b))\n",
    "b[2][0] = 100\n",
    "print(b)\n",
    "print(a)"
   ]
  },
  {
   "cell_type": "code",
   "execution_count": 38,
   "metadata": {},
   "outputs": [
    {
     "name": "stdout",
     "output_type": "stream",
     "text": [
      "[1, 2, [3, 4], 5]\n",
      "2507991424384\n",
      "2507992035072\n",
      "[1, 2, [100, 4], 5]\n",
      "[1, 2, [3, 4], 5]\n"
     ]
    }
   ],
   "source": [
    "# deepcopy() : copies the whole list\n",
    "import copy\n",
    "a = [1, 2, [3, 4], 5]\n",
    "b = copy.deepcopy(a)\n",
    "print(b)\n",
    "print(id(a))\n",
    "print(id(b))\n",
    "b[2][0] = 100\n",
    "print(b)\n",
    "print(a)"
   ]
  },
  {
   "cell_type": "code",
   "execution_count": 39,
   "metadata": {},
   "outputs": [
    {
     "name": "stdout",
     "output_type": "stream",
     "text": [
      "Enter the marks of 3 subjects\n",
      "USN 001\n",
      "Name alice\n",
      "Marks in subject1 50\n",
      "Marks in subject1 75\n",
      "Marks in subject1 100\n",
      "Total 225\n",
      "Percentage 75.0\n"
     ]
    }
   ],
   "source": [
    "# Lab program - 01\n",
    "# Develop a program to read students details like name, usn marks in 3 subjects\n",
    "# Display the student details, total marks and percentage with suitable message\n",
    "\n",
    "name = input('Enter the student name: ')\n",
    "usn = input('Enter USN: ')\n",
    "print('Enter the marks of 3 subjects')\n",
    "m1 = int(input())\n",
    "m2 = int(input())\n",
    "m3 = int(input())\n",
    "total = m1 + m2 + m3\n",
    "per = total / 3\n",
    "\n",
    "print('USN', usn)\n",
    "print('Name', name)\n",
    "print('Marks in subject1', m1)\n",
    "print('Marks in subject1', m2)\n",
    "print('Marks in subject1', m3)\n",
    "print('Total', total)\n",
    "print('Percentage', round(per, 2))"
   ]
  },
  {
   "cell_type": "code",
   "execution_count": null,
   "metadata": {},
   "outputs": [],
   "source": [
    "# Lab program - 01 b\n",
    "# Develop a program to read the name and year of birth of a person.\n",
    "# Display whether the person is a senior citizen or not.\n",
    "name = input('Enter name: ')\n",
    "current_year = int(input('Enter current year: '))\n",
    "yob = int(input('Enter year of birth: '))\n",
    "age = current_year - yob\n",
    "if age > 60:\n",
    "    print(name, 'is a senior citizen')\n",
    "else:\n",
    "    print(name, 'is not a senior citizen')"
   ]
  },
  {
   "cell_type": "code",
   "execution_count": 6,
   "metadata": {},
   "outputs": [
    {
     "name": "stdout",
     "output_type": "stream",
     "text": [
      "0\n",
      "1\n",
      "1\n",
      "2\n",
      "3\n",
      "5\n",
      "8\n",
      "13\n",
      "21\n",
      "34\n"
     ]
    }
   ],
   "source": [
    "# Lab 2a Develop a program to generate Fibonacci sequence of length(N). Read N from the console.\n",
    "n = int(input('Enter the number of terms: '))\n",
    "n1, n2 = 0, 1\n",
    "if n <= 0:\n",
    "    print('invalid input')\n",
    "elif n == 1:\n",
    "    print(n1)\n",
    "else:\n",
    "    print(n1)\n",
    "    print(n2)\n",
    "    i = 2\n",
    "    while i < n:\n",
    "        n3 = n1 + n2\n",
    "        print(n3)\n",
    "        n1 = n2\n",
    "        n2 = n3\n",
    "        i += 1"
   ]
  },
  {
   "cell_type": "code",
   "execution_count": null,
   "metadata": {},
   "outputs": [],
   "source": [
    "# Lab program 2b Write a function to calculate factorial of a number. Develop a program to compute binomial coefficient (Given N and R)\n",
    "def ncr(n, r):\n",
    "    return(fact(n) / (fact(r) * fact(n - r)))\n",
    "def fact(n):\n",
    "    if n == 0:\n",
    "        return 1\n",
    "    res = 1\n",
    "    for i in range(1, n + 1):\n",
    "        res = res * i\n",
    "    return res\n",
    "    \n",
    "n = int(input('Enter n: '))\n",
    "r = int(input('Enter r: '))\n",
    "res = int(ncr(n, r))\n",
    "print(res)"
   ]
  },
  {
   "cell_type": "code",
   "execution_count": 5,
   "metadata": {},
   "outputs": [
    {
     "name": "stdout",
     "output_type": "stream",
     "text": [
      "Alice\n",
      "cat\n"
     ]
    }
   ],
   "source": [
    "# Dictionaries\n",
    "student = {1: 'Alice', 2: 'bob'}\n",
    "print(student[1])\n",
    "\n",
    "pet = {'brown': 'cat', 'black': 'dog'}\n",
    "print(pet['brown'])\n",
    "# pet['cat']        KeyError"
   ]
  },
  {
   "cell_type": "code",
   "execution_count": 7,
   "metadata": {},
   "outputs": [
    {
     "name": "stdout",
     "output_type": "stream",
     "text": [
      "False\n",
      "True\n"
     ]
    }
   ],
   "source": [
    "# List vs Dictionaries\n",
    "spam = ['cats', 'dogs', 'moose']\n",
    "bacon = ['dogs', 'moose', 'cats']\n",
    "print(spam == bacon)\n",
    "\n",
    "eggs = {'name': 'Zophie', 'species': 'cat', 'age': '8'}\n",
    "ham = {'species': 'cat', 'age': '8', 'name': 'Zophie'}\n",
    "print(eggs == ham)"
   ]
  }
 ],
 "metadata": {
  "kernelspec": {
   "display_name": "Python 3",
   "language": "python",
   "name": "python3"
  },
  "language_info": {
   "codemirror_mode": {
    "name": "ipython",
    "version": 3
   },
   "file_extension": ".py",
   "mimetype": "text/x-python",
   "name": "python",
   "nbconvert_exporter": "python",
   "pygments_lexer": "ipython3",
   "version": "3.12.2"
  }
 },
 "nbformat": 4,
 "nbformat_minor": 2
}
