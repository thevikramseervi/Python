{
 "cells": [
  {
   "cell_type": "code",
   "execution_count": 51,
   "metadata": {},
   "outputs": [],
   "source": [
    "# List\n",
    "spam = [1, 2, 2.5, 'cat', 'dog', None, True]"
   ]
  },
  {
   "cell_type": "code",
   "execution_count": 52,
   "metadata": {},
   "outputs": [
    {
     "name": "stdout",
     "output_type": "stream",
     "text": [
      "4\n"
     ]
    }
   ],
   "source": [
    "# Getting values from a list\n",
    "spam = [1,2,3,4]\n",
    "print(spam[3])\n",
    "# spam[2.5]     TypeError"
   ]
  },
  {
   "cell_type": "code",
   "execution_count": 53,
   "metadata": {},
   "outputs": [
    {
     "name": "stdout",
     "output_type": "stream",
     "text": [
      "dog\n",
      "3\n"
     ]
    }
   ],
   "source": [
    "# List inside a list using multiple index\n",
    "spam = [['cat', 'dog'], [1, 2, 3]]\n",
    "print(spam[0][1])\n",
    "print(spam[1][2])"
   ]
  },
  {
   "cell_type": "code",
   "execution_count": 54,
   "metadata": {},
   "outputs": [
    {
     "name": "stdout",
     "output_type": "stream",
     "text": [
      "ratcat\n"
     ]
    }
   ],
   "source": [
    "spam = ['rat', 'cat', 'dog']\n",
    "ham = spam[0] + spam[1]\n",
    "print(ham)"
   ]
  },
  {
   "cell_type": "code",
   "execution_count": 55,
   "metadata": {},
   "outputs": [
    {
     "name": "stdout",
     "output_type": "stream",
     "text": [
      "['dog', 'fish', 'bat']\n",
      "['dog', 'fish']\n",
      "['rat', 'cat', 'dog']\n",
      "['dog', 'fish', 'bat']\n",
      "['rat', 'cat', 'dog', 'fish', 'bat']\n",
      "['rat', 'cat', 'dog', 'fish', 'bat']\n",
      "['dog']\n",
      "[]\n",
      "[]\n"
     ]
    }
   ],
   "source": [
    "# List with slice [start : n-1]\n",
    "spam = ['rat', 'cat', 'dog', 'fish', 'bat']\n",
    "print(spam[2:5])\n",
    "print(spam[2:-1])\n",
    "print(spam[ :3])\n",
    "print(spam[2: ])\n",
    "print(spam[ : ])\n",
    "print(spam[0:5])\n",
    "print(spam[2:3])\n",
    "print(spam[2:2])\n",
    "print(spam[2:1])"
   ]
  },
  {
   "cell_type": "code",
   "execution_count": 57,
   "metadata": {},
   "outputs": [
    {
     "name": "stdout",
     "output_type": "stream",
     "text": [
      "5\n"
     ]
    }
   ],
   "source": [
    "# Length of a list\n",
    "spam = ['rat', 'cat', 'dog', 'fish', 'bat']\n",
    "print(len(spam))"
   ]
  }
 ],
 "metadata": {
  "kernelspec": {
   "display_name": "Python 3",
   "language": "python",
   "name": "python3"
  },
  "language_info": {
   "codemirror_mode": {
    "name": "ipython",
    "version": 3
   },
   "file_extension": ".py",
   "mimetype": "text/x-python",
   "name": "python",
   "nbconvert_exporter": "python",
   "pygments_lexer": "ipython3",
   "version": "3.12.2"
  }
 },
 "nbformat": 4,
 "nbformat_minor": 2
}
