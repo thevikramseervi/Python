{
 "cells": [
  {
   "cell_type": "code",
   "execution_count": 1,
   "metadata": {},
   "outputs": [],
   "source": [
    "# List\n",
    "spam = [1, 2, 2.5, 'cat', 'dog', None, True]"
   ]
  },
  {
   "cell_type": "code",
   "execution_count": 2,
   "metadata": {},
   "outputs": [
    {
     "name": "stdout",
     "output_type": "stream",
     "text": [
      "4\n"
     ]
    }
   ],
   "source": [
    "# Getting values from a list\n",
    "spam = [1,2,3,4]\n",
    "print(spam[3])\n",
    "# spam[2.5]     TypeError"
   ]
  },
  {
   "cell_type": "code",
   "execution_count": 3,
   "metadata": {},
   "outputs": [
    {
     "name": "stdout",
     "output_type": "stream",
     "text": [
      "dog\n",
      "3\n"
     ]
    }
   ],
   "source": [
    "# List inside a list using multiple index\n",
    "spam = [['cat', 'dog'], [1, 2, 3]]\n",
    "print(spam[0][1])\n",
    "print(spam[1][2])"
   ]
  },
  {
   "cell_type": "code",
   "execution_count": 4,
   "metadata": {},
   "outputs": [
    {
     "name": "stdout",
     "output_type": "stream",
     "text": [
      "ratcat\n"
     ]
    }
   ],
   "source": [
    "spam = ['rat', 'cat', 'dog']\n",
    "ham = spam[0] + spam[1]\n",
    "print(ham)"
   ]
  },
  {
   "cell_type": "code",
   "execution_count": 5,
   "metadata": {},
   "outputs": [
    {
     "name": "stdout",
     "output_type": "stream",
     "text": [
      "['dog', 'fish', 'bat']\n",
      "['dog', 'fish']\n",
      "['rat', 'cat', 'dog']\n",
      "['dog', 'fish', 'bat']\n",
      "['rat', 'cat', 'dog', 'fish', 'bat']\n",
      "['rat', 'cat', 'dog', 'fish', 'bat']\n",
      "['dog']\n",
      "[]\n",
      "[]\n"
     ]
    }
   ],
   "source": [
    "# List with slice [start : n-1]\n",
    "spam = ['rat', 'cat', 'dog', 'fish', 'bat']\n",
    "print(spam[2:5])\n",
    "print(spam[2:-1])\n",
    "print(spam[ :3])\n",
    "print(spam[2: ])\n",
    "print(spam[ : ])\n",
    "print(spam[0:5])\n",
    "print(spam[2:3])\n",
    "print(spam[2:2])\n",
    "print(spam[2:1])"
   ]
  },
  {
   "cell_type": "code",
   "execution_count": 6,
   "metadata": {},
   "outputs": [
    {
     "name": "stdout",
     "output_type": "stream",
     "text": [
      "5\n"
     ]
    }
   ],
   "source": [
    "# Length of a list\n",
    "spam = ['rat', 'cat', 'dog', 'fish', 'bat']\n",
    "print(len(spam))"
   ]
  },
  {
   "cell_type": "code",
   "execution_count": 7,
   "metadata": {},
   "outputs": [
    {
     "name": "stdout",
     "output_type": "stream",
     "text": [
      "['rat', 'cat', 'dog', 'fish', 'bat']\n",
      "['rat', 'cat', 'dog', 'fish', 'cat']\n"
     ]
    }
   ],
   "source": [
    "# changing the items in a list\n",
    "pet = ['rat', 'cat', 'dog', 'fish', 'bat']\n",
    "print(pet)\n",
    "pet[4] = pet[1]\n",
    "print(pet)"
   ]
  },
  {
   "cell_type": "code",
   "execution_count": 8,
   "metadata": {},
   "outputs": [
    {
     "name": "stdout",
     "output_type": "stream",
     "text": [
      "[1, 2, 2.5, 'A', 'B', None]\n"
     ]
    }
   ],
   "source": [
    "# List Concatenation\n",
    "spam = [1, 2, 2.5]\n",
    "print(spam + ['A', 'B', None])"
   ]
  },
  {
   "cell_type": "code",
   "execution_count": 9,
   "metadata": {},
   "outputs": [
    {
     "name": "stdout",
     "output_type": "stream",
     "text": [
      "[1, 2, 'A', 1, 2, 'A', 1, 2, 'A']\n"
     ]
    }
   ],
   "source": [
    "# List Replication\n",
    "spam = [1, 2, 'A'] * 3\n",
    "print(spam)"
   ]
  },
  {
   "cell_type": "code",
   "execution_count": 10,
   "metadata": {},
   "outputs": [
    {
     "name": "stdout",
     "output_type": "stream",
     "text": [
      "['cat', 'bat', 'dog', 'fish', 'frog']\n",
      "['cat', 'fish', 'frog']\n"
     ]
    },
    {
     "ename": "NameError",
     "evalue": "name 'pet' is not defined",
     "output_type": "error",
     "traceback": [
      "\u001b[1;31m---------------------------------------------------------------------------\u001b[0m",
      "\u001b[1;31mNameError\u001b[0m                                 Traceback (most recent call last)",
      "Cell \u001b[1;32mIn[10], line 8\u001b[0m\n\u001b[0;32m      6\u001b[0m \u001b[38;5;28mprint\u001b[39m(pet)\n\u001b[0;32m      7\u001b[0m \u001b[38;5;28;01mdel\u001b[39;00m pet\n\u001b[1;32m----> 8\u001b[0m \u001b[38;5;28mprint\u001b[39m(\u001b[43mpet\u001b[49m)\n",
      "\u001b[1;31mNameError\u001b[0m: name 'pet' is not defined"
     ]
    }
   ],
   "source": [
    "# Deleting items in a list\n",
    "pet = ['cat', 'bat', 'rat', 'dog', 'fish', 'frog']\n",
    "del pet[2]\n",
    "print(pet)\n",
    "del pet[1:3]\n",
    "print(pet)\n",
    "del pet\n",
    "print(pet)"
   ]
  },
  {
   "cell_type": "code",
   "execution_count": 11,
   "metadata": {},
   "outputs": [
    {
     "name": "stdout",
     "output_type": "stream",
     "text": [
      "hello\n",
      "world\n",
      "['hello', 'world']\n"
     ]
    }
   ],
   "source": [
    "# Working with lists\n",
    "s = []\n",
    "while True:\n",
    "    name = input('Enter the student name: ')\n",
    "    if name == '':\n",
    "        break\n",
    "    s = s + [name]\n",
    "for i in s:\n",
    "    print(i)\n",
    "print(s)"
   ]
  },
  {
   "cell_type": "code",
   "execution_count": 12,
   "metadata": {},
   "outputs": [
    {
     "name": "stdout",
     "output_type": "stream",
     "text": [
      "index 0 is cat\n",
      "index 1 is dog\n",
      "index 2 is fish\n"
     ]
    }
   ],
   "source": [
    "# Loops with Lists\n",
    "pet = ['cat', 'dog', 'fish']\n",
    "for i in range(len(pet)):\n",
    "    print('index', i, 'is', pet[i])"
   ]
  },
  {
   "cell_type": "code",
   "execution_count": 13,
   "metadata": {},
   "outputs": [
    {
     "name": "stdout",
     "output_type": "stream",
     "text": [
      "pet is available\n"
     ]
    }
   ],
   "source": [
    "# in & not in operator\n",
    "pet = ['cat', 'dog', 'fish']\n",
    "name = 'dog'\n",
    "if name in pet:\n",
    "    print('pet is available')\n",
    "else:\n",
    "    print('pet not available')"
   ]
  },
  {
   "cell_type": "code",
   "execution_count": 14,
   "metadata": {},
   "outputs": [
    {
     "name": "stdout",
     "output_type": "stream",
     "text": [
      "pet not available\n"
     ]
    }
   ],
   "source": [
    "# in, not in operator\n",
    "pet = ['cat', 'dog', 'fish']\n",
    "name = 'dog'\n",
    "if name not in pet:\n",
    "    print('pet is available')\n",
    "else:\n",
    "    print('pet not available')"
   ]
  },
  {
   "cell_type": "code",
   "execution_count": 15,
   "metadata": {},
   "outputs": [
    {
     "name": "stdout",
     "output_type": "stream",
     "text": [
      "black fat loud\n"
     ]
    }
   ],
   "source": [
    "# Multiple Assignment Trick\n",
    "cat = ['black', 'fat', 'loud']\n",
    "color, size, sound = cat\n",
    "print(color, size, sound)"
   ]
  },
  {
   "cell_type": "code",
   "execution_count": 18,
   "metadata": {},
   "outputs": [
    {
     "name": "stdout",
     "output_type": "stream",
     "text": [
      "0 fish\n",
      "1 crow\n",
      "2 cow\n"
     ]
    }
   ],
   "source": [
    "# enumerate()\n",
    "pet = ['fish', 'crow', 'cow']\n",
    "for i, j in enumerate(pet):\n",
    "    print(i, j)"
   ]
  },
  {
   "cell_type": "code",
   "execution_count": null,
   "metadata": {},
   "outputs": [],
   "source": [
    "'''\n",
    "Methods\n",
    "1. index()\n",
    "2. append()\n",
    "3. insert()\n",
    "4. remove()\n",
    "5. sort()\n",
    "6. reverse()\n",
    "'''"
   ]
  }
 ],
 "metadata": {
  "kernelspec": {
   "display_name": "Python 3",
   "language": "python",
   "name": "python3"
  },
  "language_info": {
   "codemirror_mode": {
    "name": "ipython",
    "version": 3
   },
   "file_extension": ".py",
   "mimetype": "text/x-python",
   "name": "python",
   "nbconvert_exporter": "python",
   "pygments_lexer": "ipython3",
   "version": "3.12.2"
  }
 },
 "nbformat": 4,
 "nbformat_minor": 2
}
