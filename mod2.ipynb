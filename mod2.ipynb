{
 "cells": [
  {
   "cell_type": "code",
   "execution_count": 1,
   "metadata": {},
   "outputs": [],
   "source": [
    "# List\n",
    "spam = [1, 2, 2.5, 'cat', 'dog', None, True]"
   ]
  },
  {
   "cell_type": "code",
   "execution_count": 2,
   "metadata": {},
   "outputs": [
    {
     "name": "stdout",
     "output_type": "stream",
     "text": [
      "4\n"
     ]
    }
   ],
   "source": [
    "# Getting values from a list\n",
    "spam = [1,2,3,4]\n",
    "print(spam[3])\n",
    "# spam[2.5]     TypeError"
   ]
  },
  {
   "cell_type": "code",
   "execution_count": 3,
   "metadata": {},
   "outputs": [
    {
     "name": "stdout",
     "output_type": "stream",
     "text": [
      "dog\n",
      "3\n"
     ]
    }
   ],
   "source": [
    "# List inside a list using multiple index\n",
    "spam = [['cat', 'dog'], [1, 2, 3]]\n",
    "print(spam[0][1])\n",
    "print(spam[1][2])"
   ]
  },
  {
   "cell_type": "code",
   "execution_count": 4,
   "metadata": {},
   "outputs": [
    {
     "name": "stdout",
     "output_type": "stream",
     "text": [
      "ratcat\n"
     ]
    }
   ],
   "source": [
    "spam = ['rat', 'cat', 'dog']\n",
    "ham = spam[0] + spam[1]\n",
    "print(ham)"
   ]
  },
  {
   "cell_type": "code",
   "execution_count": 5,
   "metadata": {},
   "outputs": [
    {
     "name": "stdout",
     "output_type": "stream",
     "text": [
      "['dog', 'fish', 'bat']\n",
      "['dog', 'fish']\n",
      "['rat', 'cat', 'dog']\n",
      "['dog', 'fish', 'bat']\n",
      "['rat', 'cat', 'dog', 'fish', 'bat']\n",
      "['rat', 'cat', 'dog', 'fish', 'bat']\n",
      "['dog']\n",
      "[]\n",
      "[]\n"
     ]
    }
   ],
   "source": [
    "# List with slice [start : n-1]\n",
    "spam = ['rat', 'cat', 'dog', 'fish', 'bat']\n",
    "print(spam[2:5])\n",
    "print(spam[2:-1])\n",
    "print(spam[ :3])\n",
    "print(spam[2: ])\n",
    "print(spam[ : ])\n",
    "print(spam[0:5])\n",
    "print(spam[2:3])\n",
    "print(spam[2:2])\n",
    "print(spam[2:1])"
   ]
  },
  {
   "cell_type": "code",
   "execution_count": 6,
   "metadata": {},
   "outputs": [
    {
     "name": "stdout",
     "output_type": "stream",
     "text": [
      "5\n"
     ]
    }
   ],
   "source": [
    "# Length of a list\n",
    "spam = ['rat', 'cat', 'dog', 'fish', 'bat']\n",
    "print(len(spam))"
   ]
  },
  {
   "cell_type": "code",
   "execution_count": 7,
   "metadata": {},
   "outputs": [
    {
     "name": "stdout",
     "output_type": "stream",
     "text": [
      "['rat', 'cat', 'dog', 'fish', 'bat']\n",
      "['rat', 'cat', 'dog', 'fish', 'cat']\n"
     ]
    }
   ],
   "source": [
    "# changing the items in a list\n",
    "pet = ['rat', 'cat', 'dog', 'fish', 'bat']\n",
    "print(pet)\n",
    "pet[4] = pet[1]\n",
    "print(pet)"
   ]
  },
  {
   "cell_type": "code",
   "execution_count": 8,
   "metadata": {},
   "outputs": [
    {
     "name": "stdout",
     "output_type": "stream",
     "text": [
      "[1, 2, 2.5, 'A', 'B', None]\n"
     ]
    }
   ],
   "source": [
    "# List Concatenation\n",
    "spam = [1, 2, 2.5]\n",
    "print(spam + ['A', 'B', None])"
   ]
  },
  {
   "cell_type": "code",
   "execution_count": 9,
   "metadata": {},
   "outputs": [
    {
     "name": "stdout",
     "output_type": "stream",
     "text": [
      "[1, 2, 'A', 1, 2, 'A', 1, 2, 'A']\n"
     ]
    }
   ],
   "source": [
    "# List Replication\n",
    "spam = [1, 2, 'A'] * 3\n",
    "print(spam)"
   ]
  },
  {
   "cell_type": "code",
   "execution_count": 10,
   "metadata": {},
   "outputs": [
    {
     "name": "stdout",
     "output_type": "stream",
     "text": [
      "['cat', 'bat', 'dog', 'fish', 'frog']\n",
      "['cat', 'fish', 'frog']\n"
     ]
    },
    {
     "ename": "NameError",
     "evalue": "name 'pet' is not defined",
     "output_type": "error",
     "traceback": [
      "\u001b[1;31m---------------------------------------------------------------------------\u001b[0m",
      "\u001b[1;31mNameError\u001b[0m                                 Traceback (most recent call last)",
      "Cell \u001b[1;32mIn[10], line 8\u001b[0m\n\u001b[0;32m      6\u001b[0m \u001b[38;5;28mprint\u001b[39m(pet)\n\u001b[0;32m      7\u001b[0m \u001b[38;5;28;01mdel\u001b[39;00m pet\n\u001b[1;32m----> 8\u001b[0m \u001b[38;5;28mprint\u001b[39m(\u001b[43mpet\u001b[49m)\n",
      "\u001b[1;31mNameError\u001b[0m: name 'pet' is not defined"
     ]
    }
   ],
   "source": [
    "# Deleting items in a list\n",
    "pet = ['cat', 'bat', 'rat', 'dog', 'fish', 'frog']\n",
    "del pet[2]\n",
    "print(pet)\n",
    "del pet[1:3]\n",
    "print(pet)\n",
    "del pet\n",
    "print(pet)"
   ]
  },
  {
   "cell_type": "code",
   "execution_count": 11,
   "metadata": {},
   "outputs": [
    {
     "name": "stdout",
     "output_type": "stream",
     "text": [
      "hello\n",
      "world\n",
      "['hello', 'world']\n"
     ]
    }
   ],
   "source": [
    "# Working with lists\n",
    "s = []\n",
    "while True:\n",
    "    name = input('Enter the student name: ')\n",
    "    if name == '':\n",
    "        break\n",
    "    s = s + [name]\n",
    "for i in s:\n",
    "    print(i)\n",
    "print(s)"
   ]
  },
  {
   "cell_type": "code",
   "execution_count": 12,
   "metadata": {},
   "outputs": [
    {
     "name": "stdout",
     "output_type": "stream",
     "text": [
      "index 0 is cat\n",
      "index 1 is dog\n",
      "index 2 is fish\n"
     ]
    }
   ],
   "source": [
    "# Loops with Lists\n",
    "pet = ['cat', 'dog', 'fish']\n",
    "for i in range(len(pet)):\n",
    "    print('index', i, 'is', pet[i])"
   ]
  },
  {
   "cell_type": "code",
   "execution_count": 13,
   "metadata": {},
   "outputs": [
    {
     "name": "stdout",
     "output_type": "stream",
     "text": [
      "pet is available\n"
     ]
    }
   ],
   "source": [
    "# in & not in operator\n",
    "pet = ['cat', 'dog', 'fish']\n",
    "name = 'dog'\n",
    "if name in pet:\n",
    "    print('pet is available')\n",
    "else:\n",
    "    print('pet not available')"
   ]
  },
  {
   "cell_type": "code",
   "execution_count": 14,
   "metadata": {},
   "outputs": [
    {
     "name": "stdout",
     "output_type": "stream",
     "text": [
      "pet not available\n"
     ]
    }
   ],
   "source": [
    "# in, not in operator\n",
    "pet = ['cat', 'dog', 'fish']\n",
    "name = 'dog'\n",
    "if name not in pet:\n",
    "    print('pet is available')\n",
    "else:\n",
    "    print('pet not available')"
   ]
  },
  {
   "cell_type": "code",
   "execution_count": 15,
   "metadata": {},
   "outputs": [
    {
     "name": "stdout",
     "output_type": "stream",
     "text": [
      "black fat loud\n"
     ]
    }
   ],
   "source": [
    "# Multiple Assignment Trick\n",
    "cat = ['black', 'fat', 'loud']\n",
    "color, size, sound = cat\n",
    "print(color, size, sound)"
   ]
  },
  {
   "cell_type": "code",
   "execution_count": 18,
   "metadata": {},
   "outputs": [
    {
     "name": "stdout",
     "output_type": "stream",
     "text": [
      "0 fish\n",
      "1 crow\n",
      "2 cow\n"
     ]
    }
   ],
   "source": [
    "# enumerate()\n",
    "pet = ['fish', 'crow', 'cow']\n",
    "for i, j in enumerate(pet):\n",
    "    print(i, j)"
   ]
  },
  {
   "cell_type": "code",
   "execution_count": null,
   "metadata": {},
   "outputs": [],
   "source": [
    "'''\n",
    "Methods\n",
    "1. index()\n",
    "2. append()\n",
    "3. insert()\n",
    "4. remove()\n",
    "5. sort()\n",
    "6. reverse()\n",
    "'''"
   ]
  },
  {
   "cell_type": "code",
   "execution_count": 35,
   "metadata": {},
   "outputs": [
    {
     "name": "stdout",
     "output_type": "stream",
     "text": [
      "index of fish is 2\n",
      "['cat', 'dog', 'fish']\n",
      "['cat', 'dog', 'fish', 'camel']\n",
      "['cat', 'rat', 'dog', 'fish', 'camel']\n",
      "['cat', 'rat', 'dog', 'fish']\n",
      "['dog', 'fish', 'cat']\n",
      "['dog', 'fish']\n"
     ]
    }
   ],
   "source": [
    "pet = ['cat', 'dog', 'fish']\n",
    "print('index of fish is', pet.index('fish'))\n",
    "# print(pet.index('camel'))    ValueError\n",
    "print(pet)\n",
    "pet.append('camel')\n",
    "print(pet)\n",
    "pet.insert(1, 'rat')\n",
    "print(pet)\n",
    "pet.remove('camel')\n",
    "print(pet)\n",
    "\n",
    "pet = ['cat', 'dog', 'fish', 'cat']\n",
    "pet.remove('cat')\n",
    "print(pet)\n",
    "pet.remove('cat')\n",
    "print(pet)"
   ]
  },
  {
   "cell_type": "code",
   "execution_count": 39,
   "metadata": {},
   "outputs": [
    {
     "name": "stdout",
     "output_type": "stream",
     "text": [
      "[-1, 1, 1.5, 2.5, 3]\n"
     ]
    }
   ],
   "source": [
    "# sort method\n",
    "s = [1, -1, 2.5, 1.5, 3]\n",
    "s.sort()\n",
    "print(s)"
   ]
  },
  {
   "cell_type": "code",
   "execution_count": 40,
   "metadata": {},
   "outputs": [
    {
     "name": "stdout",
     "output_type": "stream",
     "text": [
      "[3, 2.5, 1.5, 1, -1]\n"
     ]
    }
   ],
   "source": [
    "# sort reverse method\n",
    "s = [1, -1, 2.5, 1.5, 3]\n",
    "s.sort(reverse = True)\n",
    "print(s)"
   ]
  },
  {
   "cell_type": "code",
   "execution_count": 42,
   "metadata": {},
   "outputs": [
    {
     "name": "stdout",
     "output_type": "stream",
     "text": [
      "['Apple', 'Ball', 'ant', 'bat']\n",
      "['ant', 'Apple', 'Ball', 'bat']\n"
     ]
    }
   ],
   "source": [
    "# sort method\n",
    "s = ['bat', 'Ball', 'Apple', 'ant']\n",
    "s.sort()\n",
    "print(s)\n",
    "s.sort(key = str.lower)\n",
    "print(s)"
   ]
  },
  {
   "cell_type": "code",
   "execution_count": 44,
   "metadata": {},
   "outputs": [
    {
     "name": "stdout",
     "output_type": "stream",
     "text": [
      "['moose', 'dog', 'cat']\n"
     ]
    }
   ],
   "source": [
    "# reverse method\n",
    "pet = ['cat', 'dog', 'moose']\n",
    "pet.reverse()\n",
    "print(pet)"
   ]
  },
  {
   "cell_type": "code",
   "execution_count": null,
   "metadata": {},
   "outputs": [],
   "source": [
    "'''\n",
    "random.choice()\n",
    "random.shuffle()\n",
    "'''"
   ]
  },
  {
   "cell_type": "code",
   "execution_count": 22,
   "metadata": {},
   "outputs": [
    {
     "name": "stdout",
     "output_type": "stream",
     "text": [
      "c\n",
      "cat\n",
      "3\n",
      "t\n"
     ]
    }
   ],
   "source": [
    "# Strings, Lista and Tuples\n",
    "pet = 'cat'\n",
    "print(pet[0])\n",
    "print(pet[0:3])\n",
    "print(len(pet))\n",
    "# pet[1] = 'A'          SyntaxError str does not support item assignment (inmutable)\n",
    "print(pet[-1])"
   ]
  },
  {
   "cell_type": "code",
   "execution_count": 17,
   "metadata": {},
   "outputs": [
    {
     "name": "stdout",
     "output_type": "stream",
     "text": [
      "cat\n",
      "dog\n",
      "['cat', 'dog']\n",
      "2\n",
      "['rat', 'dog']\n"
     ]
    }
   ],
   "source": [
    "# Lists\n",
    "pet = ['cat', 'dog']\n",
    "print(pet[0])\n",
    "print(pet[1])\n",
    "print(pet[0:2])\n",
    "print(len(pet))\n",
    "pet[0] = 'rat'\n",
    "print(pet)"
   ]
  },
  {
   "cell_type": "code",
   "execution_count": 24,
   "metadata": {},
   "outputs": [
    {
     "name": "stdout",
     "output_type": "stream",
     "text": [
      "zophie a cat\n",
      "zophie the cat\n"
     ]
    }
   ],
   "source": [
    "# Strings\n",
    "name = 'zophie a cat'\n",
    "print(name)\n",
    "# name[7] = 'the'       TypeError: 'str' object does not support item assignment\n",
    "new = name[0:7] + 'the' + name[8:12]\n",
    "print(new)"
   ]
  },
  {
   "cell_type": "code",
   "execution_count": null,
   "metadata": {},
   "outputs": [],
   "source": [
    "# str and tuple are inmutable\n",
    "# list are mutable"
   ]
  },
  {
   "cell_type": "code",
   "execution_count": 32,
   "metadata": {},
   "outputs": [
    {
     "name": "stdout",
     "output_type": "stream",
     "text": [
      "rat\n",
      "<class 'tuple'>\n"
     ]
    }
   ],
   "source": [
    "# tuple\n",
    "pet = ('rat', 'cat', 'dog')\n",
    "print(pet[0])\n",
    "# pet[1] = 'bat'        TypeError: 'tuple' object does not support item assignment (inmutable)\n",
    "print(type(pet))"
   ]
  },
  {
   "cell_type": "code",
   "execution_count": 45,
   "metadata": {},
   "outputs": [
    {
     "name": "stdout",
     "output_type": "stream",
     "text": [
      "<class 'tuple'>\n",
      "('cat', 'dog', 'fish')\n",
      "['cat', 'dog', 'fish']\n",
      "['frog', 'dog', 'fish']\n",
      "<class 'list'>\n",
      "('frog', 'dog', 'fish')\n",
      "<class 'tuple'>\n"
     ]
    }
   ],
   "source": [
    "pet = ('cat', 'dog', 'fish')\n",
    "print(type(pet))\n",
    "print(pet)\n",
    "pet = list(pet)\n",
    "print(pet)\n",
    "pet[0] = 'frog'\n",
    "print(pet)\n",
    "print(type(pet))\n",
    "pet = tuple(pet)\n",
    "print(pet)\n",
    "print(type(pet))"
   ]
  },
  {
   "cell_type": "code",
   "execution_count": 52,
   "metadata": {},
   "outputs": [
    {
     "name": "stdout",
     "output_type": "stream",
     "text": [
      "140730628721784\n",
      "140730628721784\n",
      "140730628724248\n",
      "100\n",
      "23\n"
     ]
    }
   ],
   "source": [
    "# References\n",
    "a = 23\n",
    "b = a\n",
    "print(id(a))\n",
    "print(id(b))\n",
    "b = 100\n",
    "print(id(b))\n",
    "print(b)\n",
    "print(a)"
   ]
  },
  {
   "cell_type": "code",
   "execution_count": 60,
   "metadata": {},
   "outputs": [
    {
     "name": "stdout",
     "output_type": "stream",
     "text": [
      "2133123801408\n",
      "2133123801408\n",
      "[1, 2, 3, 4]\n",
      "[1, 2, 70, 4]\n",
      "[1, 2, 70, 4]\n",
      "2133123801408\n",
      "2133123801408\n"
     ]
    }
   ],
   "source": [
    "# list references\n",
    "a = [1, 2, 3, 4]\n",
    "b = a\n",
    "print(id(a))\n",
    "print(id(b))\n",
    "print(b)\n",
    "b[2] = 70\n",
    "print(b)\n",
    "print(a)\n",
    "print(id(a))\n",
    "print(id(b))"
   ]
  },
  {
   "cell_type": "code",
   "execution_count": 65,
   "metadata": {},
   "outputs": [
    {
     "name": "stdout",
     "output_type": "stream",
     "text": [
      "2133124429312\n",
      "['cat', 'dog', 'fish']\n",
      "2133124429312\n",
      "[1, 2, 3, 4]\n",
      "2133124534592\n"
     ]
    }
   ],
   "source": [
    "# list references\n",
    "pet = ['cat', 'dog']\n",
    "print(id(pet))\n",
    "pet.append('fish')\n",
    "print(pet)\n",
    "print(id(pet))\n",
    "pet = [1, 2, 3, 4]\n",
    "print(pet)\n",
    "print(id(pet))"
   ]
  },
  {
   "cell_type": "code",
   "execution_count": 66,
   "metadata": {},
   "outputs": [
    {
     "name": "stdout",
     "output_type": "stream",
     "text": [
      "Inside function [1, 2, 3, 'Hello']\n",
      "Outside function [1, 2, 3, 'Hello']\n"
     ]
    }
   ],
   "source": [
    "# pass by reference (as list is used)\n",
    "def func(data):\n",
    "    data.append('Hello')\n",
    "    print('Inside function', data)\n",
    "\n",
    "s = [1, 2, 3]\n",
    "func(s)\n",
    "print('Outside function', s)"
   ]
  },
  {
   "cell_type": "code",
   "execution_count": 67,
   "metadata": {},
   "outputs": [
    {
     "name": "stdout",
     "output_type": "stream",
     "text": [
      "Inside function 30\n",
      "Outside function 20\n"
     ]
    }
   ],
   "source": [
    "# pass by value (as number is used)\n",
    "def func(data):\n",
    "    data = 30\n",
    "    print('Inside function', data)\n",
    "\n",
    "s = 20\n",
    "func(s)\n",
    "print('Outside function', s)"
   ]
  }
 ],
 "metadata": {
  "kernelspec": {
   "display_name": "Python 3",
   "language": "python",
   "name": "python3"
  },
  "language_info": {
   "codemirror_mode": {
    "name": "ipython",
    "version": 3
   },
   "file_extension": ".py",
   "mimetype": "text/x-python",
   "name": "python",
   "nbconvert_exporter": "python",
   "pygments_lexer": "ipython3",
   "version": "3.12.2"
  }
 },
 "nbformat": 4,
 "nbformat_minor": 2
}
